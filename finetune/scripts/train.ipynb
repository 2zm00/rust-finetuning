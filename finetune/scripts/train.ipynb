{
  "cells": [
    {
      "cell_type": "code",
      "execution_count": null,
      "metadata": {
        "vscode": {
          "languageId": "plaintext"
        },
        "id": "q0GOXyteVwFl"
      },
      "outputs": [],
      "source": [
        "!pip install -q transformers datasets accelerate bitsandbytes"
      ],
      "id": "q0GOXyteVwFl"
    },
    {
      "cell_type": "code",
      "execution_count": 1,
      "id": "f79b8aea",
      "metadata": {
        "vscode": {
          "languageId": "plaintext"
        },
        "id": "f79b8aea",
        "outputId": "9e076fb4-6a81-42dd-ee9c-d540c411a27f",
        "colab": {
          "base_uri": "https://localhost:8080/"
        }
      },
      "outputs": [
        {
          "output_type": "stream",
          "name": "stdout",
          "text": [
            "Mounted at /content/drive\n"
          ]
        }
      ],
      "source": [
        "from google.colab import drive\n",
        "drive.mount('/content/drive')"
      ]
    },
    {
      "cell_type": "code",
      "execution_count": null,
      "id": "823af9c6",
      "metadata": {
        "vscode": {
          "languageId": "plaintext"
        },
        "id": "823af9c6"
      },
      "outputs": [],
      "source": [
        "from datasets import load_dataset, concatenate_datasets\n",
        "from transformers import AutoTokenizer, AutoModelForCausalLM, TrainingArguments, Trainer\n",
        "\n",
        "model_name = \"openai/gpt-oss-20b\""
      ]
    },
    {
      "cell_type": "code",
      "execution_count": null,
      "id": "836bdaa9",
      "metadata": {
        "vscode": {
          "languageId": "plaintext"
        },
        "id": "836bdaa9"
      },
      "outputs": [],
      "source": [
        "def load_and_prepare_datasets():\n",
        "    ds1 = load_dataset(\"json\", data_files={\"train\": \"/content/drive/MyDrive/data/health_train.jsonl\"})[\"train\"]\n",
        "    ds2 = load_dataset(\"json\", data_files={\"train\": \"/content/drive/MyDrive/data/rehab_train.jsonl\"})[\"train\"]\n",
        "    ds3 = load_dataset(\"json\", data_files={\"train\": \"/content/drive/MyDrive/data/security_train.jsonl\"})[\"train\"]\n",
        "    combined = concatenate_datasets([ds1, ds2, ds3])\n",
        "    return combined"
      ]
    },
    {
      "cell_type": "code",
      "execution_count": null,
      "id": "fb119b2e",
      "metadata": {
        "vscode": {
          "languageId": "plaintext"
        },
        "id": "fb119b2e"
      },
      "outputs": [],
      "source": [
        "tokenizer = AutoTokenizer.from_pretrained(model_name)\n",
        "\n",
        "def preprocess(examples):\n",
        "    return tokenizer(examples[\"text\"], truncation=True, padding=\"max_length\", max_length=512)"
      ]
    },
    {
      "cell_type": "code",
      "execution_count": null,
      "id": "2e1af65c",
      "metadata": {
        "vscode": {
          "languageId": "plaintext"
        },
        "id": "2e1af65c"
      },
      "outputs": [],
      "source": [
        "dataset = load_and_prepare_datasets()\n",
        "tokenized_dataset = dataset.map(preprocess, batched=True)"
      ]
    },
    {
      "cell_type": "code",
      "execution_count": null,
      "id": "e51a07ea",
      "metadata": {
        "vscode": {
          "languageId": "plaintext"
        },
        "id": "e51a07ea"
      },
      "outputs": [],
      "source": [
        "model = AutoModelForCausalLM.from_pretrained(model_name)\n",
        "\n",
        "training_args = TrainingArguments(\n",
        "    output_dir=\"/content/drive/MyDrive/output\",\n",
        "    per_device_train_batch_size=2,\n",
        "    num_train_epochs=1,\n",
        "    fp16=True,  # GPU 사용 시 True, CPU면 False\n",
        "    save_strategy=\"epoch\",\n",
        ")\n",
        "trainer = Trainer(\n",
        "    model=model,\n",
        "    args=training_args,\n",
        "    train_dataset=tokenized_dataset,\n",
        ")"
      ]
    },
    {
      "cell_type": "code",
      "execution_count": null,
      "id": "9218bf71",
      "metadata": {
        "vscode": {
          "languageId": "plaintext"
        },
        "id": "9218bf71"
      },
      "outputs": [],
      "source": [
        "trainer.train()"
      ]
    }
  ],
  "metadata": {
    "language_info": {
      "name": "python"
    },
    "colab": {
      "provenance": []
    },
    "kernelspec": {
      "name": "python3",
      "display_name": "Python 3"
    }
  },
  "nbformat": 4,
  "nbformat_minor": 5
}