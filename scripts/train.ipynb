{
  "cells": [
    {
      "cell_type": "code",
      "execution_count": null,
      "metadata": {
        "vscode": {
          "languageId": "plaintext"
        },
        "id": "KSiua44qwKzc",
        "collapsed": true
      },
      "outputs": [],
      "source": [
        "!pip install -q transformers datasets bitsandbytes unsloth trl torch==2.3.0\n",
        "!pip install --upgrade unsloth transformers bitsandbytes datasets trl"
      ],
      "id": "KSiua44qwKzc"
    },
    {
      "cell_type": "code",
      "execution_count": null,
      "id": "f79b8aea",
      "metadata": {
        "vscode": {
          "languageId": "plaintext"
        },
        "id": "f79b8aea"
      },
      "outputs": [],
      "source": [
        "from google.colab import drive, userdata\n",
        "drive.mount('/content/drive')\n",
        "access_token = userdata.get('HF_TOKEN')"
      ]
    },
    {
      "cell_type": "code",
      "execution_count": null,
      "id": "823af9c6",
      "metadata": {
        "vscode": {
          "languageId": "plaintext"
        },
        "id": "823af9c6"
      },
      "outputs": [],
      "source": [
        "import unsloth\n",
        "from unsloth import FastLanguageModel\n",
        "import torch\n",
        "\n",
        "max_seq_length = 128\n",
        "model_name = \"unsloth/gemma-3-4b-it-unsloth-bnb-4bit\"\n",
        "\n",
        "model, tokenizer = FastLanguageModel.from_pretrained(\n",
        "    model_name = model_name,\n",
        "    max_seq_length = max_seq_length,\n",
        "    dtype=None,\n",
        "    load_in_4bit = True,\n",
        "    load_in_8bit = False,\n",
        "    full_finetuning = False,\n",
        "    token=access_token,\n",
        ")\n",
        "\n",
        "model = FastLanguageModel.get_peft_model(\n",
        "    model,\n",
        "    r=8,  # LoRA 랭크, 8~16 주로 사용\n",
        "    lora_alpha=32,\n",
        "    lora_dropout=0.05,\n",
        "    target_modules=[\n",
        "        \"q_proj\", \"k_proj\", \"v_proj\", \"o_proj\",\n",
        "        \"gate_proj\", \"down_proj\", \"up_proj\"\n",
        "    ],\n",
        "    bias=\"none\",\n",
        "    use_gradient_checkpointing=\"unsloth\",\n",
        "    random_state=42,\n",
        "    use_rslora=False,\n",
        "    loftq_config=None,\n",
        ")\n"
      ]
    },
    {
      "cell_type": "code",
      "execution_count": null,
      "id": "836bdaa9",
      "metadata": {
        "vscode": {
          "languageId": "plaintext"
        },
        "id": "836bdaa9"
      },
      "outputs": [],
      "source": [
        "tokenizer.pad_token = tokenizer.eos_token\n",
        "\n",
        "from datasets import load_dataset, concatenate_datasets\n",
        "\n",
        "def load_and_prepare_datasets():\n",
        "    ds1 = load_dataset(\"json\", data_files={\"train\": \"/content/drive/MyDrive/data/health_train.jsonl\"})[\"train\"]\n",
        "    ds2 = load_dataset(\"json\", data_files={\"train\": \"/content/drive/MyDrive/data/rehab_train.jsonl\"})[\"train\"]\n",
        "    ds3 = load_dataset(\"json\", data_files={\"train\": \"/content/drive/MyDrive/data/security_train.jsonl\"})[\"train\"]\n",
        "    combined = concatenate_datasets([ds1, ds2, ds3])\n",
        "    return combined\n",
        "\n",
        "dataset = load_and_prepare_datasets()\n",
        "\n",
        "def preprocess(examples):\n",
        "    return tokenizer(\n",
        "        examples[\"text\"],\n",
        "        truncation=True,\n",
        "        padding=\"max_length\",\n",
        "        max_length=max_seq_length\n",
        "      )\n",
        "\n",
        "\n",
        "dataset = dataset.map(preprocess, batched=True)"
      ]
    },
    {
      "cell_type": "code",
      "execution_count": null,
      "id": "e51a07ea",
      "metadata": {
        "vscode": {
          "languageId": "plaintext"
        },
        "id": "e51a07ea"
      },
      "outputs": [],
      "source": [
        "from trl import SFTTrainer\n",
        "from transformers import TrainingArguments\n",
        "from unsloth import is_bfloat16_supported\n",
        "\n",
        "\n",
        "trainer = SFTTrainer(\n",
        "    model=model,\n",
        "    tokenizer=tokenizer,\n",
        "    train_dataset=dataset,\n",
        "    dataset_text_field=\"text\",\n",
        "    max_seq_length=max_seq_length,\n",
        "    packing=False,\n",
        "    args=TrainingArguments(\n",
        "        output_dir=\"/content/drive/MyDrive/output_model\",\n",
        "        per_device_train_batch_size=1,\n",
        "        gradient_accumulation_steps=4,\n",
        "        num_train_epochs=1,\n",
        "        fp16=not is_bfloat16_supported(),\n",
        "        bf16=is_bfloat16_supported(),\n",
        "        save_strategy=\"epoch\",\n",
        "        logging_steps=10,\n",
        "        report_to=[],\n",
        "    ),\n",
        ")"
      ]
    },
    {
      "cell_type": "code",
      "execution_count": null,
      "id": "9218bf71",
      "metadata": {
        "vscode": {
          "languageId": "plaintext"
        },
        "id": "9218bf71"
      },
      "outputs": [],
      "source": [
        "trainer.train()"
      ]
    },
    {
      "cell_type": "code",
      "source": [
        "!zip -r /content/drive/MyDrive/output_model.zip /content/drive/MyDrive/output_model/"
      ],
      "metadata": {
        "id": "OwncRHfPx7Mn"
      },
      "id": "OwncRHfPx7Mn",
      "execution_count": null,
      "outputs": []
    }
  ],
  "metadata": {
    "language_info": {
      "name": "python"
    },
    "colab": {
      "provenance": [],
      "gpuType": "T4"
    },
    "kernelspec": {
      "name": "python3",
      "display_name": "Python 3"
    },
    "accelerator": "GPU"
  },
  "nbformat": 4,
  "nbformat_minor": 5
}