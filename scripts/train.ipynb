{
  "cells": [
    {
      "cell_type": "code",
      "execution_count": null,
      "metadata": {
        "vscode": {
          "languageId": "plaintext"
        },
        "id": "KSiua44qwKzc",
        "outputId": "5f285a2f-e57c-4e1c-b7a9-a3bc3b9acbdc",
        "colab": {
          "base_uri": "https://localhost:8080/"
        }
      },
      "outputs": [
        {
          "output_type": "stream",
          "name": "stdout",
          "text": [
            "\u001b[33mWARNING: Ignoring invalid distribution ~vidia-cudnn-cu12 (/usr/local/lib/python3.11/dist-packages)\u001b[0m\u001b[33m\n",
            "\u001b[0m\u001b[33mWARNING: Ignoring invalid distribution ~vidia-cudnn-cu12 (/usr/local/lib/python3.11/dist-packages)\u001b[0m\u001b[33m\n",
            "\u001b[0m\u001b[33mWARNING: Ignoring invalid distribution ~vidia-cudnn-cu12 (/usr/local/lib/python3.11/dist-packages)\u001b[0m\u001b[33m\n",
            "\u001b[0m\u001b[33m    WARNING: Ignoring invalid distribution ~vidia-cudnn-cu12 (/usr/local/lib/python3.11/dist-packages)\u001b[0m\u001b[33m\n",
            "\u001b[0m\u001b[33mWARNING: Ignoring invalid distribution ~vidia-cudnn-cu12 (/usr/local/lib/python3.11/dist-packages)\u001b[0m\u001b[33m\n",
            "\u001b[0m\u001b[33mWARNING: Ignoring invalid distribution ~vidia-cudnn-cu12 (/usr/local/lib/python3.11/dist-packages)\u001b[0m\u001b[33m\n",
            "\u001b[0m\u001b[33mWARNING: Ignoring invalid distribution ~vidia-cudnn-cu12 (/usr/local/lib/python3.11/dist-packages)\u001b[0m\u001b[33m\n",
            "\u001b[0m"
          ]
        }
      ],
      "source": [
        "!pip install -q transformers datasets accelerate bitsandbytes peft"
      ],
      "id": "KSiua44qwKzc"
    },
    {
      "cell_type": "code",
      "execution_count": null,
      "id": "f79b8aea",
      "metadata": {
        "vscode": {
          "languageId": "plaintext"
        },
        "id": "f79b8aea"
      },
      "outputs": [],
      "source": [
        "from google.colab import drive\n",
        "drive.mount('/content/drive')"
      ]
    },
    {
      "cell_type": "code",
      "source": [
        "from google.colab import userdata\n",
        "access_token = userdata.get('HF_TOKEN')"
      ],
      "metadata": {
        "id": "lopUHYY2wnCl"
      },
      "id": "lopUHYY2wnCl",
      "execution_count": null,
      "outputs": []
    },
    {
      "cell_type": "code",
      "execution_count": null,
      "id": "823af9c6",
      "metadata": {
        "vscode": {
          "languageId": "plaintext"
        },
        "id": "823af9c6"
      },
      "outputs": [],
      "source": [
        "from datasets import load_dataset, concatenate_datasets\n",
        "from transformers import BitsAndBytesConfig, AutoTokenizer, AutoModelForCausalLM, TrainingArguments, Trainer\n",
        "from peft import LoraConfig, get_peft_model, TaskType\n",
        "\n",
        "model_name = \"google/gemma-3n-E4B-it\""
      ]
    },
    {
      "cell_type": "code",
      "execution_count": null,
      "id": "836bdaa9",
      "metadata": {
        "vscode": {
          "languageId": "plaintext"
        },
        "id": "836bdaa9"
      },
      "outputs": [],
      "source": [
        "def load_and_prepare_datasets():\n",
        "    ds1 = load_dataset(\"json\", data_files={\"train\": \"/content/drive/MyDrive/data/health_train.jsonl\"})[\"train\"]\n",
        "    ds2 = load_dataset(\"json\", data_files={\"train\": \"/content/drive/MyDrive/data/rehab_train.jsonl\"})[\"train\"]\n",
        "    ds3 = load_dataset(\"json\", data_files={\"train\": \"/content/drive/MyDrive/data/secur_train.jsonl\"})[\"train\"]\n",
        "    combined = concatenate_datasets([ds1, ds2, ds3])\n",
        "    return combined"
      ]
    },
    {
      "cell_type": "code",
      "execution_count": null,
      "id": "fb119b2e",
      "metadata": {
        "vscode": {
          "languageId": "plaintext"
        },
        "id": "fb119b2e"
      },
      "outputs": [],
      "source": [
        "tokenizer = AutoTokenizer.from_pretrained(model_name, token=access_token)\n",
        "\n",
        "def preprocess(examples):\n",
        "    return tokenizer(examples[\"text\"], truncation=True, padding=\"max_length\", max_length=256)"
      ]
    },
    {
      "cell_type": "code",
      "execution_count": null,
      "id": "2e1af65c",
      "metadata": {
        "vscode": {
          "languageId": "plaintext"
        },
        "id": "2e1af65c"
      },
      "outputs": [],
      "source": [
        "dataset = load_and_prepare_datasets()\n",
        "tokenized_dataset = dataset.map(preprocess, batched=True)"
      ]
    },
    {
      "cell_type": "code",
      "execution_count": null,
      "id": "e51a07ea",
      "metadata": {
        "vscode": {
          "languageId": "plaintext"
        },
        "id": "e51a07ea"
      },
      "outputs": [],
      "source": [
        "quant_config = BitsAndBytesConfig(load_in_8bit=True)\n",
        "\n",
        "model = AutoModelForCausalLM.from_pretrained(\n",
        "    model_name,\n",
        "    token=access_token,\n",
        "    torch_dtype=\"auto\",\n",
        "    quantization_config=quant_config,\n",
        "    device_map={\n",
        "        \"transformer.h.0\": 0\n",
        "    },\n",
        ")\n",
        "\n",
        "lora_config = LoraConfig(\n",
        "    r=8,\n",
        "    lora_alpha=32,\n",
        "    target_modules=[\"q_proj\", \"k_proj\", \"v_proj\", \"o_proj\", \"gate_proj\", \"down_proj\", \"up_proj\"],\n",
        "    lora_dropout=0.05,\n",
        "    bias=\"none\",\n",
        "    task_type=TaskType.CAUSAL_LM\n",
        ")\n",
        "model = get_peft_model(model, lora_config)\n",
        "\n",
        "training_args = TrainingArguments(\n",
        "    output_dir=\"/content/drive/MyDrive/output\",\n",
        "    per_device_train_batch_size=1,\n",
        "    num_train_epochs=1,\n",
        "    fp16=True,  # GPU 사용 시 True, CPU면 False\n",
        "    save_strategy=\"epoch\",\n",
        "    report_to=[]\n",
        ")\n",
        "trainer = Trainer(\n",
        "    model=model,\n",
        "    args=training_args,\n",
        "    train_dataset=tokenized_dataset,\n",
        ")"
      ]
    },
    {
      "cell_type": "code",
      "execution_count": null,
      "id": "9218bf71",
      "metadata": {
        "vscode": {
          "languageId": "plaintext"
        },
        "id": "9218bf71"
      },
      "outputs": [],
      "source": [
        "trainer.train()"
      ]
    },
    {
      "cell_type": "code",
      "source": [
        "!zip -r /content/drive/MyDrive/output_model.zip /content/drive/MyDrive/output_model/"
      ],
      "metadata": {
        "id": "OwncRHfPx7Mn"
      },
      "id": "OwncRHfPx7Mn",
      "execution_count": null,
      "outputs": []
    }
  ],
  "metadata": {
    "language_info": {
      "name": "python"
    },
    "colab": {
      "provenance": []
    },
    "kernelspec": {
      "name": "python3",
      "display_name": "Python 3"
    }
  },
  "nbformat": 4,
  "nbformat_minor": 5
}